{
 "cells": [
  {
   "cell_type": "code",
   "execution_count": 1,
   "metadata": {},
   "outputs": [],
   "source": [
    "import numpy as np\n",
    "from sklearn.impute import SimpleImputer"
   ]
  },
  {
   "cell_type": "code",
   "execution_count": 2,
   "metadata": {},
   "outputs": [],
   "source": [
    "# Carga de datos\n",
    "X_train = [[1,      4], \n",
    "           [np.nan, 3], \n",
    "           [7,      8]]"
   ]
  },
  {
   "cell_type": "code",
   "execution_count": 3,
   "metadata": {},
   "outputs": [
    {
     "name": "stdout",
     "output_type": "stream",
     "text": [
      "[[1. 4.]\n",
      " [4. 3.]\n",
      " [7. 8.]]\n"
     ]
    }
   ],
   "source": [
    "# Limpieza de datos: imputación valores ausentes (modelo)\n",
    "imputer = SimpleImputer(strategy='mean') # Utilizamos la estrategia de la media\n",
    "\n",
    "# Aplicar los métodos \"fit\" y \"transform\" para imputar los valores pérdidos de X_train\n",
    "X_train_clean = imputer.fit_transform(X_train)\n",
    "print(X_train_clean)"
   ]
  },
  {
   "cell_type": "code",
   "execution_count": 4,
   "metadata": {},
   "outputs": [
    {
     "name": "stdout",
     "output_type": "stream",
     "text": [
      "[[ 4. 10.]\n",
      " [ 6.  5.]\n",
      " [ 8.  2.]]\n"
     ]
    }
   ],
   "source": [
    "# Imputación de valores ausentes sobre el conjunto de test\n",
    "X_test = [[np.nan, 10], \n",
    "          [6,      np.nan], \n",
    "          [8,      2]]\n",
    "\n",
    "# Imputar los datos del conjunto de test\n",
    "X_test_clean = imputer.transform(X_test)\n",
    "print(X_test_clean)"
   ]
  }
 ],
 "metadata": {
  "kernelspec": {
   "display_name": "Python 3",
   "language": "python",
   "name": "python3"
  },
  "language_info": {
   "codemirror_mode": {
    "name": "ipython",
    "version": 3
   },
   "file_extension": ".py",
   "mimetype": "text/x-python",
   "name": "python",
   "nbconvert_exporter": "python",
   "pygments_lexer": "ipython3",
   "version": "3.11.5"
  }
 },
 "nbformat": 4,
 "nbformat_minor": 4
}
