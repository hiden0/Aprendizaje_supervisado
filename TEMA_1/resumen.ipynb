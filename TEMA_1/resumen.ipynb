{
 "cells": [
  {
   "cell_type": "markdown",
   "metadata": {},
   "source": [
    "# Estandarizacion o normalizacion\n",
    "\n"
   ]
  },
  {
   "cell_type": "markdown",
   "metadata": {},
   "source": [
    "### Normalización\n",
    "\n",
    "Para normalizar utilizamos las siguientes funciones"
   ]
  },
  {
   "cell_type": "code",
   "execution_count": 4,
   "metadata": {},
   "outputs": [
    {
     "data": {
      "text/plain": [
       "array([[0.2  , 0.   , 1.   ],\n",
       "       [1.   , 0.4  , 0.625],\n",
       "       [0.   , 1.   , 0.   ]])"
      ]
     },
     "execution_count": 4,
     "metadata": {},
     "output_type": "execute_result"
    }
   ],
   "source": [
    "from sklearn import preprocessing\n",
    "import numpy as np\n",
    "\n",
    "X_train = np.array([[ 1., -4.,  5.],\n",
    "                    [ 5.,  0.,  2.],\n",
    "                    [ 0.,  6., -3.]])\n",
    "\n",
    "normalizer = preprocessing.MinMaxScaler()     #funcion que normaliza \n",
    "X_train_norm = normalizer.fit_transform(X_train)\n",
    "X_train_norm"
   ]
  },
  {
   "cell_type": "markdown",
   "metadata": {},
   "source": [
    "### Estandarizacion \n",
    "\n",
    "Estandarizar utiliza la media y la desviacion estandar de la columna para calcular el nuevo valor. Sirve mejor para conjuntos de datos con outlayers\n",
    "NOTA IMPORTANTE: Aqui saco el standarizador separado para poder guardarlo, esta es la forma correcta de hacerlo y no la forma anterior. Primero el 'fit' y despues el 'transform'"
   ]
  },
  {
   "cell_type": "code",
   "execution_count": 6,
   "metadata": {},
   "outputs": [
    {
     "name": "stdout",
     "output_type": "stream",
     "text": [
      "StandardScaler()\n"
     ]
    },
    {
     "data": {
      "text/plain": [
       "array([[-0.46291005, -1.13554995,  1.1111678 ],\n",
       "       [ 1.38873015, -0.16222142,  0.20203051],\n",
       "       [-0.9258201 ,  1.29777137, -1.31319831]])"
      ]
     },
     "execution_count": 6,
     "metadata": {},
     "output_type": "execute_result"
    }
   ],
   "source": [
    "\n",
    "standardizer = preprocessing.StandardScaler()\n",
    "f = standardizer.fit(X_train)\n",
    "print(f)\n",
    "\n",
    "X_train_stand = f.transform(X_train)\n",
    "X_train_stand\n",
    "X_train_stand"
   ]
  },
  {
   "cell_type": "code",
   "execution_count": null,
   "metadata": {},
   "outputs": [],
   "source": []
  }
 ],
 "metadata": {
  "kernelspec": {
   "display_name": "clase_1",
   "language": "python",
   "name": "python3"
  },
  "language_info": {
   "codemirror_mode": {
    "name": "ipython",
    "version": 3
   },
   "file_extension": ".py",
   "mimetype": "text/x-python",
   "name": "python",
   "nbconvert_exporter": "python",
   "pygments_lexer": "ipython3",
   "version": "3.11.5"
  }
 },
 "nbformat": 4,
 "nbformat_minor": 2
}
